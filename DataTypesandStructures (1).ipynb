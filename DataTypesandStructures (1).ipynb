{
  "nbformat": 4,
  "nbformat_minor": 0,
  "metadata": {
    "colab": {
      "provenance": []
    },
    "kernelspec": {
      "name": "python3",
      "display_name": "Python 3"
    },
    "language_info": {
      "name": "python"
    }
  },
  "cells": [
    {
      "cell_type": "markdown",
      "source": [
        "#Data Types and structures\n",
        "1.What are data structures and why are they important?\n",
        ">-A container that organizes and groups data by type.Data structures are important because the way of organising data can be accessed and manipulated easily.it also helps in processing and storing large amount of data efficiently."
      ],
      "metadata": {
        "id": "1fgRH0UsDqSd"
      }
    },
    {
      "cell_type": "markdown",
      "source": [
        "2.explain the difference between mutable and immutable data types with examples.\n",
        ">-The mutable data types can be modified after creation meanwhile the immutable data types cannot be changed.eg:"
      ],
      "metadata": {
        "id": "hgj2kG33FJVc"
      }
    },
    {
      "cell_type": "code",
      "source": [
        "#1.mutable:Lists\n",
        "my_list=[1,2,3]\n",
        "my_list[0]=4\n",
        "print(my_list)\n"
      ],
      "metadata": {
        "colab": {
          "base_uri": "https://localhost:8080/"
        },
        "id": "sMJD4kaWGWp_",
        "outputId": "045d3da9-3bbd-4f4f-9400-06a2e35a20c4"
      },
      "execution_count": null,
      "outputs": [
        {
          "output_type": "stream",
          "name": "stdout",
          "text": [
            "[4, 2, 3]\n"
          ]
        }
      ]
    },
    {
      "cell_type": "code",
      "source": [
        "#2.immutable:strings\n",
        "my_string=\"hello\"\n",
        "my_string[0]=\"H\"\n",
        "print(my_string) #shows error.."
      ],
      "metadata": {
        "colab": {
          "base_uri": "https://localhost:8080/",
          "height": 201
        },
        "id": "iYUOhD8jIAA8",
        "outputId": "6063483c-05e5-4cc4-b5ca-33430002cc87"
      },
      "execution_count": null,
      "outputs": [
        {
          "output_type": "error",
          "ename": "TypeError",
          "evalue": "'str' object does not support item assignment",
          "traceback": [
            "\u001b[0;31m---------------------------------------------------------------------------\u001b[0m",
            "\u001b[0;31mTypeError\u001b[0m                                 Traceback (most recent call last)",
            "\u001b[0;32m<ipython-input-10-d686053bb5b9>\u001b[0m in \u001b[0;36m<cell line: 0>\u001b[0;34m()\u001b[0m\n\u001b[1;32m      1\u001b[0m \u001b[0;31m#2.immutable:strings\u001b[0m\u001b[0;34m\u001b[0m\u001b[0;34m\u001b[0m\u001b[0m\n\u001b[1;32m      2\u001b[0m \u001b[0mmy_string\u001b[0m\u001b[0;34m=\u001b[0m\u001b[0;34m\"hello\"\u001b[0m\u001b[0;34m\u001b[0m\u001b[0;34m\u001b[0m\u001b[0m\n\u001b[0;32m----> 3\u001b[0;31m \u001b[0mmy_string\u001b[0m\u001b[0;34m[\u001b[0m\u001b[0;36m0\u001b[0m\u001b[0;34m]\u001b[0m\u001b[0;34m=\u001b[0m\u001b[0;34m\"H\"\u001b[0m\u001b[0;34m\u001b[0m\u001b[0;34m\u001b[0m\u001b[0m\n\u001b[0m\u001b[1;32m      4\u001b[0m \u001b[0mprint\u001b[0m\u001b[0;34m(\u001b[0m\u001b[0mmy_string\u001b[0m\u001b[0;34m)\u001b[0m\u001b[0;34m\u001b[0m\u001b[0;34m\u001b[0m\u001b[0m\n",
            "\u001b[0;31mTypeError\u001b[0m: 'str' object does not support item assignment"
          ]
        }
      ]
    },
    {
      "cell_type": "markdown",
      "source": [
        "3.What are the main difference between lists and tuples in python?\n",
        ">-Lists are mutable,whereas tuples are immutable.Lists also have more methods of modification,whereas tuples are more memory efficient."
      ],
      "metadata": {
        "id": "TeL18YocIRvR"
      }
    },
    {
      "cell_type": "markdown",
      "source": [
        "4.Describe how dictionaries store data.\n",
        ">-Dictionaries store data as key value pairs,where each key is unique and maps a specific value.They use hash tables for efficient lookup,insertion and deletion."
      ],
      "metadata": {
        "id": "S7NiastWJMCv"
      }
    },
    {
      "cell_type": "markdown",
      "source": [
        "5.Why might you use a set instead of list in python?\n",
        ">-Sets are used when you need to store unique elements,and the order of elements doesn't matter.They provide faster lookup,insertion and deletion operations compared to lists."
      ],
      "metadata": {
        "id": "9NDT-v0VJ7ty"
      }
    },
    {
      "cell_type": "markdown",
      "source": [
        "6.What is a string in python,and how is it different from a list?\n",
        ">-A string is an immutable sequence of characters.Unlike lists,strings are immutable and their elements are characters, not arbitrary objects."
      ],
      "metadata": {
        "id": "OU3f4BUBKyM3"
      }
    },
    {
      "cell_type": "markdown",
      "source": [
        "7.How do tuples ensure data integrity in python?\n",
        ">-Tuples ensure data integrity by being immutable,which means their contents cannot be modified after creation."
      ],
      "metadata": {
        "id": "U6rVVCZgLqW3"
      }
    },
    {
      "cell_type": "markdown",
      "source": [
        "8.What is hash tables, and how does it relate to dictionaries in python?\n",
        ">-A hash table is a data structure that stores key value pairs using a hash function.In python,Dictionaries use hash tables internally to provide efficient lookup,insertion and deletion operations."
      ],
      "metadata": {
        "id": "9EorR_5VMFLo"
      }
    },
    {
      "cell_type": "markdown",
      "source": [
        "9.Can lists contain different data types in python?\n",
        ">-Yes,lists can contain different data types,including strings,integers,floats and other lists."
      ],
      "metadata": {
        "id": "7YJC93YCM9zY"
      }
    },
    {
      "cell_type": "markdown",
      "source": [
        "10.Explain why strings are immutable in python?\n",
        ">-Strings are immutable in python because immutabilty ensures strings can be safely shared between different parts of the program without worrying about one part modifying the string unexpectedly."
      ],
      "metadata": {
        "id": "QH05Y1sONaZJ"
      }
    },
    {
      "cell_type": "markdown",
      "source": [
        "11.What advantages do dictionaries offer over lists for certain tasks?\n",
        ">-Dictionaries provides faster lookup,insertion and deletion operations compared to lists especially for large datasets.they also provide more convienient way to store and access data using key-values pairs."
      ],
      "metadata": {
        "id": "AdHI1BF8OIcu"
      }
    },
    {
      "cell_type": "markdown",
      "source": [
        "12.Describe a scenario where using a tuple would preferable over a list.\n",
        ">-When you need to store a small,fixed-size collection of immutable data,such as a point in 2D space (x,y) or a date (year,month,day),Using a tuple would be more preferable than a list."
      ],
      "metadata": {
        "id": "KbPr8MN4PGB2"
      }
    },
    {
      "cell_type": "markdown",
      "source": [
        "13.How do sets value duplicate value in python?\n",
        ">-Sets automatically eliminate duplicate values ensuring that each element in the set is unique."
      ],
      "metadata": {
        "id": "En_pezHQPyR6"
      }
    },
    {
      "cell_type": "markdown",
      "source": [
        "14.How does the 'in' keyword work differently for lists and dictionaries?\n",
        ">-For lists,the 'in' keyword checks if a value is present in the list.For the dictionaries,the 'in' keyword checks if a key is present in the dictionary."
      ],
      "metadata": {
        "id": "Ohi7Rel7QU7k"
      }
    },
    {
      "cell_type": "markdown",
      "source": [
        "15.Can you modify the elements of a tuple?\n",
        ">-No,the elements in a tuples cannot be modified/changed because they immutable."
      ],
      "metadata": {
        "id": "x2ehCohwRIJa"
      }
    },
    {
      "cell_type": "markdown",
      "source": [
        "16.What is a nested dictionary,and give an example of its use case.\n",
        ">-A nest dictionary is dictionary that contains another dictionary as it's value.example use case:Storing student information,Where each student has a dictionary containing their name,age and grade."
      ],
      "metadata": {
        "id": "s6I-NVfLRbME"
      }
    },
    {
      "cell_type": "markdown",
      "source": [
        "17.Describe the time complexity of accessing elements in a dictionary.\n",
        ">-The average time complexity of accessing elements in a dictionary is 0(1),making it very efficient for lookup operations."
      ],
      "metadata": {
        "id": "5FAvbrsdSgA_"
      }
    },
    {
      "cell_type": "markdown",
      "source": [
        "18.In what situations are lists preferred over dictionaries?\n",
        ">-Lists are preferred when ou need to store a collection of data that requires indexing,slicingor modifying the order of elements."
      ],
      "metadata": {
        "id": "y5bS5lUyTNvA"
      }
    },
    {
      "cell_type": "markdown",
      "source": [
        "19.Why are dictionaries considered unordered,and how does that affect data retrieval?\n",
        ">-Dictionaries are considered unordered because the order of the key-value pairs is not guaranteed.This affects data retrieval because you cannot rely on the order of elements when iterating over a dictionary."
      ],
      "metadata": {
        "id": "qU6oH8kTTtaW"
      }
    },
    {
      "cell_type": "markdown",
      "source": [
        "20.Explain difference between list and dictionary in terms of data retrieval.\n",
        ">-Lists allow data retrival using indexing."
      ],
      "metadata": {
        "id": "qNrsBb78Unds"
      }
    },
    {
      "cell_type": "code",
      "source": [
        "#eg:\n",
        "my_list=[1,2,3]\n",
        "print(my_list[0])"
      ],
      "metadata": {
        "colab": {
          "base_uri": "https://localhost:8080/"
        },
        "id": "F-jZQwMuU6gQ",
        "outputId": "dd4976d2-3221-4667-d961-ccc5c75fcd93"
      },
      "execution_count": null,
      "outputs": [
        {
          "output_type": "stream",
          "name": "stdout",
          "text": [
            "1\n"
          ]
        }
      ]
    },
    {
      "cell_type": "markdown",
      "source": [
        ">or slicing."
      ],
      "metadata": {
        "id": "ZkK2cftAVDfF"
      }
    },
    {
      "cell_type": "code",
      "source": [
        "#eg:\n",
        "my_list=[1,2,3,4,5]\n",
        "print(my_list[1:4])"
      ],
      "metadata": {
        "colab": {
          "base_uri": "https://localhost:8080/"
        },
        "id": "ksQuDYn6VQf4",
        "outputId": "b89a8600-1e84-42d4-e75a-fac934c397ac"
      },
      "execution_count": null,
      "outputs": [
        {
          "output_type": "stream",
          "name": "stdout",
          "text": [
            "[2, 3, 4]\n"
          ]
        }
      ]
    },
    {
      "cell_type": "markdown",
      "source": [
        ">-Dictionaries allow data retrieval using key lookup."
      ],
      "metadata": {
        "id": "j0R7OhUPVZv0"
      }
    },
    {
      "cell_type": "code",
      "source": [
        "#eg:\n",
        "my_dict={\"name\":\"John\",\"age\":30,\"city\":\"New York\"}\n",
        "print(my_dict[\"name\"])"
      ],
      "metadata": {
        "colab": {
          "base_uri": "https://localhost:8080/"
        },
        "id": "2XY1_JpWVld5",
        "outputId": "c7987299-9e8b-44f9-e9da-994ab47839d4"
      },
      "execution_count": null,
      "outputs": [
        {
          "output_type": "stream",
          "name": "stdout",
          "text": [
            "John\n"
          ]
        }
      ]
    },
    {
      "cell_type": "markdown",
      "source": [
        "#Practical Questions\n",
        "1.Write a code to create a string with yout name and print it."
      ],
      "metadata": {
        "id": "lyeweF67VujF"
      }
    },
    {
      "cell_type": "code",
      "source": [
        "name=input(\"enter your name:\")\n",
        "print(name)"
      ],
      "metadata": {
        "colab": {
          "base_uri": "https://localhost:8080/"
        },
        "id": "hjVsWu7VWBBv",
        "outputId": "89141dff-8066-4684-a55e-62d795ad13f9"
      },
      "execution_count": null,
      "outputs": [
        {
          "output_type": "stream",
          "name": "stdout",
          "text": [
            "enter your name:Anand Rajeev\n",
            "Anand Rajeev\n"
          ]
        }
      ]
    },
    {
      "cell_type": "markdown",
      "source": [
        "2.Write a code to find the length of the string \"Hello World\"."
      ],
      "metadata": {
        "id": "2z787tOPWo7K"
      }
    },
    {
      "cell_type": "code",
      "source": [
        "string=\"Hello World\"\n",
        "length=len(string)\n",
        "print(length)"
      ],
      "metadata": {
        "id": "QQ_Ix7R_W0F3",
        "outputId": "9e80e4b1-bd1d-4407-903a-a0ddec3633c3",
        "colab": {
          "base_uri": "https://localhost:8080/"
        }
      },
      "execution_count": null,
      "outputs": [
        {
          "output_type": "stream",
          "name": "stdout",
          "text": [
            "11\n"
          ]
        }
      ]
    },
    {
      "cell_type": "markdown",
      "source": [
        "3.Write a code to slice the first 3 characters from the string \"python programming\"."
      ],
      "metadata": {
        "id": "RhaZ2zwYZLJ_"
      }
    },
    {
      "cell_type": "code",
      "source": [
        "string=\"python programming\"\n",
        "sliced_string=string[:3]\n",
        "print(sliced_string)"
      ],
      "metadata": {
        "colab": {
          "base_uri": "https://localhost:8080/"
        },
        "id": "M6yLKau7ZgMh",
        "outputId": "77213727-f7ab-462f-913d-40041af73457"
      },
      "execution_count": null,
      "outputs": [
        {
          "output_type": "stream",
          "name": "stdout",
          "text": [
            "pyt\n"
          ]
        }
      ]
    },
    {
      "cell_type": "markdown",
      "source": [
        "4.Write a code to convert the string \"hello\" to uppercase."
      ],
      "metadata": {
        "id": "IXO92AIwZtK1"
      }
    },
    {
      "cell_type": "code",
      "source": [
        "string=\"hello\"\n",
        "uppercase_string=string.upper()\n",
        "print(uppercase_string)"
      ],
      "metadata": {
        "colab": {
          "base_uri": "https://localhost:8080/"
        },
        "id": "BT1UaajXZ50V",
        "outputId": "56fb7d1e-fe5a-413a-8f2b-8658363e058d"
      },
      "execution_count": null,
      "outputs": [
        {
          "output_type": "stream",
          "name": "stdout",
          "text": [
            "HELLO\n"
          ]
        }
      ]
    },
    {
      "cell_type": "markdown",
      "source": [
        "5.Write a code to replace a code replace a word \"apple\" with \"orange\" in the string \"I like apple\"."
      ],
      "metadata": {
        "id": "eiSmcnfVaErF"
      }
    },
    {
      "cell_type": "code",
      "source": [
        "string=\"I like apple\"\n",
        "replaced_string=string.replace(\"apple\",\"orange\")\n",
        "print(replaced_string)"
      ],
      "metadata": {
        "colab": {
          "base_uri": "https://localhost:8080/"
        },
        "id": "FfQEKDxeaY2x",
        "outputId": "8e15c67a-58f1-4c9e-8a05-507d28c5a49b"
      },
      "execution_count": null,
      "outputs": [
        {
          "output_type": "stream",
          "name": "stdout",
          "text": [
            "I like orange\n"
          ]
        }
      ]
    },
    {
      "cell_type": "markdown",
      "source": [
        "6.Write a code to create a list with numbers 1 to 5 and print it."
      ],
      "metadata": {
        "id": "srML5M0GaeVU"
      }
    },
    {
      "cell_type": "code",
      "source": [
        "num=list(range(1,6))\n",
        "print(num)"
      ],
      "metadata": {
        "colab": {
          "base_uri": "https://localhost:8080/"
        },
        "id": "9BshI1nnasBc",
        "outputId": "ab019b89-d91c-4314-9874-df95a2a66e32"
      },
      "execution_count": null,
      "outputs": [
        {
          "output_type": "stream",
          "name": "stdout",
          "text": [
            "[1, 2, 3, 4, 5]\n"
          ]
        }
      ]
    },
    {
      "cell_type": "markdown",
      "source": [
        "7.Write a code to append the number 10 to the list [1,2,3,4]."
      ],
      "metadata": {
        "id": "RwqbuBa-a7v5"
      }
    },
    {
      "cell_type": "code",
      "source": [
        "num=[1,2,3,4]\n",
        "num.append(10)\n",
        "print(num)"
      ],
      "metadata": {
        "colab": {
          "base_uri": "https://localhost:8080/"
        },
        "id": "CFriFtt0bTmX",
        "outputId": "188d868f-25b7-4da3-e53f-292b81907a11"
      },
      "execution_count": null,
      "outputs": [
        {
          "output_type": "stream",
          "name": "stdout",
          "text": [
            "[1, 2, 3, 4, 10]\n"
          ]
        }
      ]
    },
    {
      "cell_type": "markdown",
      "source": [
        "8.Write a code to remove the number 3 from the list [1,2,3,4,5]."
      ],
      "metadata": {
        "id": "6gelSOdAbgNB"
      }
    },
    {
      "cell_type": "code",
      "source": [
        "num=[1,2,3,4,5]\n",
        "num.remove(3)\n",
        "print(num)"
      ],
      "metadata": {
        "colab": {
          "base_uri": "https://localhost:8080/"
        },
        "id": "Xd_GC0Tybvb5",
        "outputId": "157984d8-8ec2-4621-9c5e-33b465d68c24"
      },
      "execution_count": null,
      "outputs": [
        {
          "output_type": "stream",
          "name": "stdout",
          "text": [
            "[1, 2, 4, 5]\n"
          ]
        }
      ]
    },
    {
      "cell_type": "markdown",
      "source": [
        "9.Write a code to access the second element in the list ['a','b','c','d']."
      ],
      "metadata": {
        "id": "GcLITRQab_OE"
      }
    },
    {
      "cell_type": "code",
      "source": [
        "let=['a','b','c','d']\n",
        "second_element=let[1]\n",
        "print(second_element)"
      ],
      "metadata": {
        "colab": {
          "base_uri": "https://localhost:8080/"
        },
        "id": "qe9Magc_cRxg",
        "outputId": "2376b557-04f2-4cdc-885e-c7667dc1ca19"
      },
      "execution_count": null,
      "outputs": [
        {
          "output_type": "stream",
          "name": "stdout",
          "text": [
            "b\n"
          ]
        }
      ]
    },
    {
      "cell_type": "markdown",
      "source": [
        "10.Write a code to reverse the list [10,20,30,40,50]."
      ],
      "metadata": {
        "id": "SEqmfxAFclOG"
      }
    },
    {
      "cell_type": "code",
      "source": [
        "num=[10,20,30,40,50]\n",
        "reversed_num=num[::-1]\n",
        "print(reversed_num)"
      ],
      "metadata": {
        "colab": {
          "base_uri": "https://localhost:8080/"
        },
        "id": "U6ieLqkUcx0H",
        "outputId": "a4dae639-8be2-4880-81d7-8b6716cd1241"
      },
      "execution_count": null,
      "outputs": [
        {
          "output_type": "stream",
          "name": "stdout",
          "text": [
            "[50, 40, 30, 20, 10]\n"
          ]
        }
      ]
    },
    {
      "cell_type": "markdown",
      "source": [
        "11.Write a code to create a tuple with elements 10,20,30 and print it."
      ],
      "metadata": {
        "id": "_tQCbUjAc-n8"
      }
    },
    {
      "cell_type": "code",
      "source": [
        "my_tuple=(10,20,30)\n",
        "print(my_tuple)"
      ],
      "metadata": {
        "colab": {
          "base_uri": "https://localhost:8080/"
        },
        "id": "FVF9-Oq6dRKJ",
        "outputId": "efd51651-e3e5-4ccc-f321-ba59c1619d98"
      },
      "execution_count": null,
      "outputs": [
        {
          "output_type": "stream",
          "name": "stdout",
          "text": [
            "(10, 20, 30)\n"
          ]
        }
      ]
    },
    {
      "cell_type": "markdown",
      "source": [
        "12.Write a code to access the first element of the tuple ('apple','banana','cherry')."
      ],
      "metadata": {
        "id": "-6krWKGLd627"
      }
    },
    {
      "cell_type": "code",
      "source": [
        "my_tup=('apple','banana','cherry')\n",
        "first_element=my_tup[0]\n",
        "print(first_element)"
      ],
      "metadata": {
        "colab": {
          "base_uri": "https://localhost:8080/"
        },
        "id": "4vyVIW91eZXR",
        "outputId": "ef96e9cc-b03b-472b-97da-1dc2606158ba"
      },
      "execution_count": null,
      "outputs": [
        {
          "output_type": "stream",
          "name": "stdout",
          "text": [
            "apple\n"
          ]
        }
      ]
    },
    {
      "cell_type": "markdown",
      "source": [
        "13.Count how many times the number 2 appears in the tuple (1,2,3,2,4,2)."
      ],
      "metadata": {
        "id": "rZ_-nwZZddLF"
      }
    },
    {
      "cell_type": "code",
      "source": [
        "my_tup=(1,2,3,2,4,2)\n",
        "print(my_tup.count(2))"
      ],
      "metadata": {
        "colab": {
          "base_uri": "https://localhost:8080/"
        },
        "id": "1ls3WQlwdrR4",
        "outputId": "df96fc7d-69fe-41af-d881-0e61467ffd3e"
      },
      "execution_count": null,
      "outputs": [
        {
          "output_type": "stream",
          "name": "stdout",
          "text": [
            "3\n"
          ]
        }
      ]
    },
    {
      "cell_type": "markdown",
      "source": [
        "14.Write a code to find the index of the element \"cat\" in the tuple ('dog','cat','rabbit')."
      ],
      "metadata": {
        "id": "r-oHBuuKd1nv"
      }
    },
    {
      "cell_type": "code",
      "source": [
        "my_tup=('dog','cat','rabbit')\n",
        "print(my_tup.index('cat'))"
      ],
      "metadata": {
        "colab": {
          "base_uri": "https://localhost:8080/"
        },
        "id": "CSNQzBE-e-Wb",
        "outputId": "34d658ef-36be-47df-c1e5-4ed5c612d76a"
      },
      "execution_count": null,
      "outputs": [
        {
          "output_type": "stream",
          "name": "stdout",
          "text": [
            "1\n"
          ]
        }
      ]
    },
    {
      "cell_type": "markdown",
      "source": [
        "15.Write a code to check if the element 'banana' is in the tuple ('apple',orange','banana')."
      ],
      "metadata": {
        "id": "CzLntdy3fEOx"
      }
    },
    {
      "cell_type": "code",
      "source": [
        "my_tup=('apple','orange','banana')\n",
        "print('banana' in my_tup)"
      ],
      "metadata": {
        "colab": {
          "base_uri": "https://localhost:8080/"
        },
        "id": "Q9dT_jnqfcVk",
        "outputId": "54a77c94-62ef-4a63-ee06-8e140b133f64"
      },
      "execution_count": null,
      "outputs": [
        {
          "output_type": "stream",
          "name": "stdout",
          "text": [
            "True\n"
          ]
        }
      ]
    },
    {
      "cell_type": "markdown",
      "source": [
        "16.Write a code to create a set with elements 1,2,3,4,5 and print it."
      ],
      "metadata": {
        "id": "5uFWILOofhn4"
      }
    },
    {
      "cell_type": "code",
      "source": [
        "my_set={1,2,3,4,5}\n",
        "print(my_set)"
      ],
      "metadata": {
        "colab": {
          "base_uri": "https://localhost:8080/"
        },
        "id": "ni6NqUgef5_u",
        "outputId": "a4dd41ed-27b9-42c4-fdbf-5b1c95c9b850"
      },
      "execution_count": null,
      "outputs": [
        {
          "output_type": "stream",
          "name": "stdout",
          "text": [
            "{1, 2, 3, 4, 5}\n"
          ]
        }
      ]
    },
    {
      "cell_type": "markdown",
      "source": [
        "17.Write a code to add the element 6 to the set {1,2,3,4}."
      ],
      "metadata": {
        "id": "fATbca_EgFGB"
      }
    },
    {
      "cell_type": "code",
      "source": [
        "my_set={1,2,3,4}\n",
        "my_set.add(6)\n",
        "print(my_set)"
      ],
      "metadata": {
        "colab": {
          "base_uri": "https://localhost:8080/"
        },
        "id": "yK-u9ZFjgQP3",
        "outputId": "6a27f5b2-da9c-4901-c4cf-997b3c400bd4"
      },
      "execution_count": null,
      "outputs": [
        {
          "output_type": "stream",
          "name": "stdout",
          "text": [
            "{1, 2, 3, 4, 6}\n"
          ]
        }
      ]
    },
    {
      "cell_type": "markdown",
      "source": [
        "18.Write a code create a tuple with elements 10,20,30 and print it."
      ],
      "metadata": {
        "id": "PK7l0GsUgUVX"
      }
    },
    {
      "cell_type": "code",
      "source": [
        "my_tup=(10,20,30)\n",
        "print(my_tup)"
      ],
      "metadata": {
        "colab": {
          "base_uri": "https://localhost:8080/"
        },
        "id": "KZUYo4dQhESl",
        "outputId": "0559efbf-f21a-416d-ecd1-a2d90c08686b"
      },
      "execution_count": null,
      "outputs": [
        {
          "output_type": "stream",
          "name": "stdout",
          "text": [
            "(10, 20, 30)\n"
          ]
        }
      ]
    },
    {
      "cell_type": "markdown",
      "source": [
        "19.Write a code to access the first element of the tuple ('apple','banana','cherry')."
      ],
      "metadata": {
        "id": "C8iPnnlRhYQb"
      }
    },
    {
      "cell_type": "code",
      "source": [
        "my_tup=('apple','banana','cherry')\n",
        "first_element=my_tup[0]\n",
        "print(first_element)"
      ],
      "metadata": {
        "colab": {
          "base_uri": "https://localhost:8080/"
        },
        "id": "oada6ycyhnJw",
        "outputId": "e0276d4a-ccc4-440e-83e9-792ae32cceef"
      },
      "execution_count": null,
      "outputs": [
        {
          "output_type": "stream",
          "name": "stdout",
          "text": [
            "apple\n"
          ]
        }
      ]
    },
    {
      "cell_type": "markdown",
      "source": [
        "20.Write a code to count how many times the number 2 appears in tuple (1,2,3,2,4,2)."
      ],
      "metadata": {
        "id": "-CaXPAezhsSM"
      }
    },
    {
      "cell_type": "code",
      "source": [
        "my_tup=(1,2,3,2,4,2)\n",
        "print(my_tup.count(2))"
      ],
      "metadata": {
        "colab": {
          "base_uri": "https://localhost:8080/"
        },
        "id": "Yfn7jV2Bh93R",
        "outputId": "555d724f-cc7b-4936-b70b-61e1bb205fb8"
      },
      "execution_count": null,
      "outputs": [
        {
          "output_type": "stream",
          "name": "stdout",
          "text": [
            "3\n"
          ]
        }
      ]
    },
    {
      "cell_type": "markdown",
      "source": [
        "21.Write a code to find the indes of the element 'cat' in the tuple ('dog','cat','rabbit)."
      ],
      "metadata": {
        "id": "VAZSoLs_iRVs"
      }
    },
    {
      "cell_type": "code",
      "source": [
        "my_tup=('dog','cat','rabbit')\n",
        "print(my_tup.index('cat'))"
      ],
      "metadata": {
        "colab": {
          "base_uri": "https://localhost:8080/"
        },
        "id": "O4_lg0OLikkn",
        "outputId": "7d6c8f8e-5768-4e26-8b36-51087e213c5f"
      },
      "execution_count": null,
      "outputs": [
        {
          "output_type": "stream",
          "name": "stdout",
          "text": [
            "1\n"
          ]
        }
      ]
    },
    {
      "cell_type": "markdown",
      "source": [
        "22.Write a code to check if the element banana is in the tuple ('apple',orange','banana')."
      ],
      "metadata": {
        "id": "gVXhZkvTirlM"
      }
    },
    {
      "cell_type": "code",
      "source": [
        "my_tup=('apple','orange','banana')\n",
        "print('banana' in my_tup)"
      ],
      "metadata": {
        "colab": {
          "base_uri": "https://localhost:8080/"
        },
        "id": "xVmYJYj9jBNx",
        "outputId": "bb1af460-6064-4520-f9ac-f4ae583c1dce"
      },
      "execution_count": null,
      "outputs": [
        {
          "output_type": "stream",
          "name": "stdout",
          "text": [
            "True\n"
          ]
        }
      ]
    },
    {
      "cell_type": "markdown",
      "source": [
        "23.write a code to create a set with elements 1,2,3,4,5 and print it."
      ],
      "metadata": {
        "id": "Ku72j_bujG7W"
      }
    },
    {
      "cell_type": "code",
      "source": [
        "my_set={1,2,3,4,5}\n",
        "print(my_set)"
      ],
      "metadata": {
        "colab": {
          "base_uri": "https://localhost:8080/"
        },
        "id": "U4Z0FNhGjSer",
        "outputId": "cb2bfff2-a47a-4b4d-d7ea-a5cf363849b7"
      },
      "execution_count": null,
      "outputs": [
        {
          "output_type": "stream",
          "name": "stdout",
          "text": [
            "{1, 2, 3, 4, 5}\n"
          ]
        }
      ]
    },
    {
      "cell_type": "markdown",
      "source": [
        "24.Write a code to add the element 6 to the set {1,2,3,4}."
      ],
      "metadata": {
        "id": "r8Z_05VxjVlO"
      }
    },
    {
      "cell_type": "code",
      "source": [
        "my_set={1,2,3,4}\n",
        "my_set.add(6)\n",
        "print(my_set)"
      ],
      "metadata": {
        "colab": {
          "base_uri": "https://localhost:8080/"
        },
        "id": "0IL_6vaSje_R",
        "outputId": "3d0bd9bb-07c8-4721-8c84-944c1af5716c"
      },
      "execution_count": null,
      "outputs": [
        {
          "output_type": "stream",
          "name": "stdout",
          "text": [
            "{1, 2, 3, 4, 6}\n"
          ]
        }
      ]
    }
  ]
}